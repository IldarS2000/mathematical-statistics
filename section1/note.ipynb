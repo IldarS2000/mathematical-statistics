{
 "cells": [
  {
   "cell_type": "code",
   "execution_count": 2,
   "metadata": {},
   "outputs": [
    {
     "name": "stdout",
     "output_type": "stream",
     "text": [
      "выборка: [123.0, 119.5, 120.5, 118.1, 117.5, 118.2, 124.5, 115.9, 121.0, 126.0, 121.3, 121.0, 118.2, 120.2, 124.3, 118.5, 117.2, 125.5, 115.0, 119.5, 126.0, 120.0, 126.5, 121.0, 125.0, 123.0, 122.7, 120.5, 122.5, 122.0, 122.5, 122.5, 122.5, 117.2, 123.0, 128.5, 120.5, 118.9, 116.2, 125.0, 125.1, 121.8, 122.0, 120.5, 123.0, 115.0, 120.5, 118.0, 125.0, 115.0, 117.0, 125.9, 122.0, 120.5, 121.1, 123.5, 120.7, 125.8, 120.5, 119.0, 120.5, 120.2, 123.0, 120.0, 117.2, 122.6, 120.2, 120.5, 123.0, 121.5, 120.0, 119.5, 115.0, 122.9, 123.3, 121.0, 122.5, 119.0, 124.0, 120.5, 121.9, 124.2, 121.5, 118.2, 122.2, 121.5, 120.0, 123.0, 119.5, 117.8, 119.2, 116.0, 123.0]\n",
      "\n",
      "вариационный ряд: [115.0, 115.0, 115.0, 115.0, 115.9, 116.0, 116.2, 117.0, 117.2, 117.2, 117.2, 117.5, 117.8, 118.0, 118.1, 118.2, 118.2, 118.2, 118.5, 118.9, 119.0, 119.0, 119.2, 119.5, 119.5, 119.5, 119.5, 120.0, 120.0, 120.0, 120.0, 120.2, 120.2, 120.2, 120.5, 120.5, 120.5, 120.5, 120.5, 120.5, 120.5, 120.5, 120.5, 120.5, 120.7, 121.0, 121.0, 121.0, 121.0, 121.1, 121.3, 121.5, 121.5, 121.5, 121.8, 121.9, 122.0, 122.0, 122.0, 122.2, 122.5, 122.5, 122.5, 122.5, 122.5, 122.6, 122.7, 122.9, 123.0, 123.0, 123.0, 123.0, 123.0, 123.0, 123.0, 123.0, 123.3, 123.5, 124.0, 124.2, 124.3, 124.5, 125.0, 125.0, 125.0, 125.1, 125.5, 125.8, 125.9, 126.0, 126.0, 126.5, 128.5]\n",
      "\n",
      "минимум: 115.0\n",
      "размах: 13.5\n",
      "среднее: 121.04516129032258\n",
      "дисперсия: 8.18914325355532\n",
      "несмещенная дисперсия: 8.2781556802244\n",
      "стандартное отклонение: 2.8616679146182076\n",
      "коеффициент ассиметрии: -0.06237708152178841\n",
      "медина: 121.0\n",
      "интерквартильная широта: 3.5\n"
     ]
    }
   ],
   "source": [
    "import csv\n",
    "import matplotlib.pyplot as plt\n",
    "import numpy as np\n",
    "\n",
    "\n",
    "def get_sample(file_name):\n",
    "    with open(file_name) as f:\n",
    "        reader = csv.reader(f)\n",
    "        sample = [line[0] for line in reader][1:]\n",
    "        sample = list(map(float, sample))\n",
    "    return sample\n",
    "\n",
    "\n",
    "def get_quantile(sorted_sample, q):\n",
    "    size = len(sorted_sample)\n",
    "    if isinstance((size - 1) * q + 1, int):\n",
    "        return sorted_sample[(size - 1) * q + 1]\n",
    "    else:\n",
    "        return (sorted_sample[int((size - 1) * q + 1)] + sorted_sample[int((size - 1) * q + 2)]) / 2\n",
    "\n",
    "\n",
    "def show_hist(sample):\n",
    "    plt.hist(sample, bins=10, ec='blue', density=True)\n",
    "    plt.xlabel('выборка')\n",
    "    plt.ylabel('частота')\n",
    "    plt.show()\n",
    "\n",
    "\n",
    "def show_ecdf(sample):\n",
    "    hist, edges = np.histogram(sample, bins=len(sample))\n",
    "    heights = hist.cumsum()\n",
    "    heights = [height / len(sample) for height in heights]\n",
    "\n",
    "    plt.plot([113, edges[0]], [0, 0], c='blue')\n",
    "    for i in range(len(heights)):\n",
    "        plt.plot([edges[i], edges[i + 1]], [heights[i], heights[i]], c='blue')\n",
    "\n",
    "    plt.axis([113, edges[-1], 0, 1])\n",
    "\n",
    "    plt.show()\n",
    "\n",
    "sample = get_sample('r1z1.csv')\n",
    "sorted_sample = sorted(sample)\n",
    "\n",
    "minimum = min(sample)\n",
    "maximum = max(sample)\n",
    "range_of_sample = maximum - minimum\n",
    "\n",
    "avg = sum(sample) / len(sample)\n",
    "dispersion = sum([(value - avg) ** 2 for value in sample]) / len(sample)\n",
    "unbiased_dispersion = sum([(value - avg) ** 2 for value in sample]) / (len(sample) - 1)\n",
    "deviation = dispersion ** 0.5\n",
    "asymmetry_coeff = sum([(value - avg) ** 3 for value in sample]) / (len(sample) * deviation ** 3)\n",
    "median = get_quantile(sorted_sample, 0.5)\n",
    "interquartile_range = get_quantile(sorted_sample, 0.75) - get_quantile(sorted_sample, 0.25)\n",
    "\n",
    "print(f'выборка: {sample}\\n')\n",
    "print(f'вариационный ряд: {sorted_sample}\\n')\n",
    "print(f'минимум: {minimum}')\n",
    "print(f'размах: {range_of_sample}')\n",
    "print(f'среднее: {avg}')\n",
    "print(f'дисперсия: {dispersion}')\n",
    "print(f'несмещенная дисперсия: {unbiased_dispersion}')\n",
    "print(f'стандартное отклонение: {deviation}')\n",
    "print(f'коеффициент ассиметрии: {asymmetry_coeff}')\n",
    "print(f'медина: {median}')\n",
    "print(f'интерквартильная широта: {interquartile_range}')"
   ]
  },
  {
   "cell_type": "code",
   "execution_count": 3,
   "metadata": {},
   "outputs": [
    {
     "data": {
      "image/png": "[encoded data removed]",
      "text/plain": [
       "<Figure size 432x288 with 1 Axes>"
      ]
     },
     "metadata": {
      "needs_background": "light"
     },
     "output_type": "display_data"
    }
   ],
   "source": [
    "show_hist(sample)"
   ]
  },
  {
   "cell_type": "code",
   "execution_count": 4,
   "metadata": {},
   "outputs": [
    {
     "data": {
      "image/png": "[encoded data removed]",
      "text/plain": [
       "<Figure size 432x288 with 1 Axes>"
      ]
     },
     "metadata": {
      "needs_background": "light"
     },
     "output_type": "display_data"
    }
   ],
   "source": [
    "show_ecdf(sample)"
   ]
  },
  {
   "cell_type": "code",
   "execution_count": null,
   "metadata": {},
   "outputs": [],
   "source": []
  }
 ],
 "metadata": {
  "kernelspec": {
   "display_name": "Python 3",
   "language": "python",
   "name": "python3"
  },
  "language_info": {
   "codemirror_mode": {
    "name": "ipython",
    "version": 3
   },
   "file_extension": ".py",
   "mimetype": "text/x-python",
   "name": "python",
   "nbconvert_exporter": "python",
   "pygments_lexer": "ipython3",
   "version": "3.8.6"
  }
 },
 "nbformat": 4,
 "nbformat_minor": 4
}
