{
 "cells": [
  {
   "cell_type": "markdown",
   "metadata": {},
   "source": [
    "## раздел 2"
   ]
  },
  {
   "cell_type": "code",
   "execution_count": 1,
   "metadata": {},
   "outputs": [],
   "source": [
    "import csv\n",
    "import scipy.stats\n",
    "import scipy.special\n",
    "import matplotlib.pyplot as plt\n",
    "import seaborn as sns\n",
    "import numpy as np\n",
    "import math"
   ]
  },
  {
   "cell_type": "code",
   "execution_count": 2,
   "metadata": {},
   "outputs": [],
   "source": [
    "def get_sample(file_name, sample_num=0):\n",
    "    with open(file_name) as f:\n",
    "        reader = csv.reader(f)\n",
    "        sample = [line[sample_num] for line in reader][1:]\n",
    "\n",
    "    if '' in sample:\n",
    "        sample.remove('')\n",
    "    sample = list(map(float, sample))\n",
    "    return sample"
   ]
  },
  {
   "cell_type": "markdown",
   "metadata": {},
   "source": [
    "### Задание 1\n",
    "Требуется проверить гипотезу однородности выборок в ситуации, когда в качестве альтернативы ожидается, что значения в 1-й выборке будут «равномерно»\n",
    "меньше значений во второй выборке.\n",
    "\n",
    "α = 0.1"
   ]
  },
  {
   "cell_type": "markdown",
   "metadata": {},
   "source": [
    "### Критерий Вилкоксона\n",
    "Критерий применим в тех случаях, когда признаки измерены, по крайней мере, в порядковой шкале. Целесообразно применять данный критерий, когда величина самих сдвигов варьирует в некотором диапазоне (10—15 % от их величины). Это объясняется тем, что разброс значений сдвигов должен быть таким, чтобы появлялась возможность их ранжирования. В случае если сдвиги незначительно различаются между собой и принимают какие-то конечные значения (например. +1, -1 и 0), формальных препятствий к применению критерия нет, но, ввиду большого числа одинаковых рангов, ранжирование утрачивает смысл."
   ]
  },
  {
   "cell_type": "markdown",
   "metadata": {},
   "source": [
    "нулевая гипотеза однородности:<br>\n",
    "$H_0$ : $F_Y$(x) = $F_X$(x), $\\forall x$.<br>\n",
    "В качестве альтернативы однородности выборок выдвигается гипотеза:<br>\n",
    "$H_1$ : $F_Y$(x) < $F_X$(x), $\\forall x$."
   ]
  },
  {
   "cell_type": "code",
   "execution_count": 3,
   "metadata": {},
   "outputs": [],
   "source": [
    "def add_ranks(general_row):\n",
    "    repeats = []\n",
    "    flag = False\n",
    "    for index in range(len(general_row) - 1):\n",
    "        general_row[index][2] = index + 1\n",
    "        if index < len(general_row) - 1 and general_row[index][1] == general_row[index + 1][1]:\n",
    "            repeats.append(index + 1)\n",
    "            flag = True\n",
    "        elif flag:\n",
    "            repeats.append(index + 1)\n",
    "            avg = sum(repeats) / len(repeats)\n",
    "            for i in repeats:\n",
    "                general_row[i - 1][2] = avg\n",
    "            repeats = []\n",
    "            flag = False"
   ]
  },
  {
   "cell_type": "code",
   "execution_count": 4,
   "metadata": {},
   "outputs": [],
   "source": [
    "sample1 = get_sample('r2z1.csv', 0)\n",
    "sample2 = get_sample('r2z1.csv', 1)"
   ]
  },
  {
   "cell_type": "code",
   "execution_count": 5,
   "metadata": {},
   "outputs": [],
   "source": [
    "n1 = len(sample1)\n",
    "n2 = len(sample2)"
   ]
  },
  {
   "cell_type": "code",
   "execution_count": 6,
   "metadata": {},
   "outputs": [
    {
     "name": "stdout",
     "output_type": "stream",
     "text": [
      "объём выборки 1: 29\n",
      "выборка 1: [40.0, 48.4, 48.0, 34.7, 28.8, 33.4, 65.3, 54.9, 37.6, 22.7, 37.7, 26.4, 48.3, 48.5, 30.6, 27.3, 27.3, 53.8, 31.4, 43.3, 54.4, 35.9, 66.7, 55.0, 34.5, 57.5, 38.7, 40.3, 25.7]\n"
     ]
    }
   ],
   "source": [
    "print(f'объём выборки 1: {n1}')\n",
    "print(f'выборка 1: {sample1}')"
   ]
  },
  {
   "cell_type": "code",
   "execution_count": 7,
   "metadata": {},
   "outputs": [
    {
     "name": "stdout",
     "output_type": "stream",
     "text": [
      "объём выборки 2: 28\n",
      "выборка 2: [54.0, 53.4, 65.4, 68.1, 51.3, 35.7, 59.0, 39.8, 72.8, 75.1, 51.7, 32.5, 39.0, 63.7, 78.5, 48.1, 73.1, 67.1, 43.4, 33.6, 35.6, 48.4, 73.1, 77.9, 61.6, 74.9, 37.7, 39.8]\n"
     ]
    }
   ],
   "source": [
    "print(f'объём выборки 2: {n2}')\n",
    "print(f'выборка 2: {sample2}')"
   ]
  },
  {
   "cell_type": "code",
   "execution_count": 8,
   "metadata": {},
   "outputs": [
    {
     "name": "stdout",
     "output_type": "stream",
     "text": [
      "объединённый вариационный ряд:\n",
      "[[1, 22.7, 1], [1, 25.7, 2], [1, 26.4, 3], [1, 27.3, 4.5], [1, 27.3, 4.5], [1, 28.8, 6], [1, 30.6, 7], [1, 31.4, 8], [2, 32.5, 9], [1, 33.4, 10], [2, 33.6, 11], [1, 34.5, 12], [1, 34.7, 13], [2, 35.6, 14], [2, 35.7, 15], [1, 35.9, 16], [1, 37.6, 17], [1, 37.7, 18.5], [2, 37.7, 18.5], [1, 38.7, 20], [2, 39.0, 21], [2, 39.8, 22.5], [2, 39.8, 22.5], [1, 40.0, 24], [1, 40.3, 25], [1, 43.3, 26], [2, 43.4, 27], [1, 48.0, 28], [2, 48.1, 29], [1, 48.3, 30], [1, 48.4, 31.5], [2, 48.4, 31.5], [1, 48.5, 33], [2, 51.3, 34], [2, 51.7, 35], [2, 53.4, 36], [1, 53.8, 37], [2, 54.0, 38], [1, 54.4, 39], [1, 54.9, 40], [1, 55.0, 41], [1, 57.5, 42], [2, 59.0, 43], [2, 61.6, 44], [2, 63.7, 45], [1, 65.3, 46], [2, 65.4, 47], [1, 66.7, 48], [2, 67.1, 49], [2, 68.1, 50], [2, 72.8, 51], [2, 73.1, 52.5], [2, 73.1, 52.5], [2, 74.9, 54], [2, 75.1, 55], [2, 77.9, 56], [2, 78.5, 0]]\n"
     ]
    }
   ],
   "source": [
    "general_row = [[1, value, 0] for value in sample1] + \\\n",
    "              [[2, value, 0] for value in sample2]\n",
    "general_row.sort(key=lambda tup: tup[1])\n",
    "add_ranks(general_row)\n",
    "print(f'объединённый вариационный ряд:\\n{general_row}')"
   ]
  },
  {
   "cell_type": "code",
   "execution_count": 9,
   "metadata": {},
   "outputs": [
    {
     "name": "stdout",
     "output_type": "stream",
     "text": [
      "сумма рангов первой выборки: 633.0\n"
     ]
    }
   ],
   "source": [
    "sum_rank_of_sample1 = sum(tup[2] for tup in general_row if tup[0] == 1)\n",
    "print(f'сумма рангов первой выборки: {sum_rank_of_sample1}')"
   ]
  },
  {
   "cell_type": "code",
   "execution_count": 10,
   "metadata": {},
   "outputs": [
    {
     "name": "stdout",
     "output_type": "stream",
     "text": [
      "характеристики фии распределения Вилкоксона:\n",
      "\tмат ожидание: 841.5\n",
      "\tдисперсия: 3924.6666666666665\n",
      "\tстандартное отклонение: 62.64716008460931\n"
     ]
    }
   ],
   "source": [
    "mean = n1 * (n1 + n2 + 1) / 2 + 0.5\n",
    "dispersion = n1 * n2 * (n1 + n2 + 1) / 12\n",
    "std = dispersion ** 0.5\n",
    "\n",
    "# mean = sum(sample1 + sample2) / (n1 + n2)\n",
    "# dispersion = sum([(elem - mean) ** 2 for elem in sample1 + sample2]) / (n1 + n2)\n",
    "# std = dispersion ** 0.5\n",
    "\n",
    "print('характеристики фии распределения Вилкоксона:')\n",
    "print(f'\\tмат ожидание: {mean}')\n",
    "print(f'\\tдисперсия: {dispersion}')\n",
    "print(f'\\tстандартное отклонение: {std}')\n",
    "wilcoxon_distribution = scipy.stats.norm(loc=mean, scale=std)"
   ]
  },
  {
   "cell_type": "code",
   "execution_count": 11,
   "metadata": {},
   "outputs": [
    {
     "name": "stdout",
     "output_type": "stream",
     "text": [
      "C_критическое: 921.7855660833543\n"
     ]
    }
   ],
   "source": [
    "alpha = 0.1\n",
    "c_critical = wilcoxon_distribution.ppf(1 - alpha)\n",
    "print(f'C_критическое: {c_critical}')"
   ]
  },
  {
   "cell_type": "markdown",
   "metadata": {},
   "source": [
    "#### нулевая гипотеза принимается так как $w >  С_{крит}$"
   ]
  },
  {
   "cell_type": "code",
   "execution_count": 12,
   "metadata": {},
   "outputs": [
    {
     "name": "stdout",
     "output_type": "stream",
     "text": [
      "p значение: 0.9995628974908843\n"
     ]
    }
   ],
   "source": [
    "standard_normal_distribution = scipy.stats.norm(loc=0, scale=1)\n",
    "p_value = 1 - standard_normal_distribution.cdf((sum_rank_of_sample1 - mean) / std)\n",
    "print(f'p значение: {p_value}')"
   ]
  },
  {
   "cell_type": "markdown",
   "metadata": {},
   "source": [
    "#### нулевая гипотеза принимается  так как $p_{value} >  \\alpha$"
   ]
  },
  {
   "cell_type": "markdown",
   "metadata": {},
   "source": [
    "### Задание 2\n",
    "Требуется произвести проверку гипотезы о том, что предоставленная выборка соответствует экспоненциальному распределению. Проверка гипотезы осуществляется с помощью критерия согласия Колмогорова.<br><br>\n",
    "α = 0.1<br>\n",
    "$H_0$: X ∼ E(λ = 1)"
   ]
  },
  {
   "cell_type": "code",
   "execution_count": 13,
   "metadata": {},
   "outputs": [],
   "source": [
    "def plot_ecdf(sample):\n",
    "    hist, edges = np.histogram(sample, bins=len(sample))\n",
    "    heights = hist.cumsum()\n",
    "    heights = [height / len(sample) for height in heights]\n",
    "\n",
    "    scale = (max(sample) - min(sample)) / 10\n",
    "\n",
    "    plt.plot([edges[0] - scale, edges[0]], [0, 0], c='red')\n",
    "    for i in range(len(heights)):\n",
    "        plt.plot([edges[i], edges[i + 1]], [heights[i], heights[i]], c='red')\n",
    "    plt.plot([edges[-1], edges[-1] + scale], [1, 1], c='red')\n",
    "    \n",
    "    plt.axis([edges[0] - scale, edges[-1] + scale, 0, 1 + scale])"
   ]
  },
  {
   "cell_type": "code",
   "execution_count": 14,
   "metadata": {},
   "outputs": [],
   "source": [
    "sample = get_sample('r2z22.csv')\n",
    "sample = sorted(sample)"
   ]
  },
  {
   "cell_type": "code",
   "execution_count": 15,
   "metadata": {},
   "outputs": [],
   "source": [
    "n = len(sample)"
   ]
  },
  {
   "cell_type": "code",
   "execution_count": 16,
   "metadata": {},
   "outputs": [
    {
     "name": "stdout",
     "output_type": "stream",
     "text": [
      "объём выборки: 94\n",
      "вариационный ряд: [-1.37385983636171, -1.19206298015878, -0.808950729061196, -0.775068234724488, -0.51297916193017, -0.394788848138718, -0.327053360452185, -0.302048136039895, -0.272840688397384, -0.158961891118256, -0.126409802120381, -0.0729199888024632, 0.0118585822417491, 0.0156904805678122, 0.0281504648436162, 0.0845992773578725, 0.179535492742257, 0.194206747520436, 0.209507813876265, 0.224722873278799, 0.297729643413151, 0.362826284989112, 0.39484097841573, 0.454095098306566, 0.462615924192093, 0.515158484207372, 0.566797905397702, 0.619127770633839, 0.697290494605818, 0.700510036197607, 0.708477380011994, 0.753408565502319, 0.790215981005408, 0.795180739680021, 0.813410420699843, 0.888104124215789, 0.898299713663285, 0.93092641812378, 0.989617706350417, 1.03124236478853, 1.04645960902814, 1.08362147728417, 1.09219902970505, 1.12517323431435, 1.18007440427389, 1.18668358722645, 1.20057676933459, 1.23460798217654, 1.30929208478135, 1.31757981412355, 1.35882427685462, 1.42506286260492, 1.44789312278015, 1.4577106923861, 1.46217597406933, 1.4642347836957, 1.52685587021892, 1.55850243539337, 1.63149586698952, 1.69256787811741, 1.75544363875904, 1.784363975708, 1.83506630308547, 1.85526009393446, 1.8670036262703, 2.00206199274111, 2.06179890972605, 2.09859104048798, 2.10002139932555, 2.10872635821977, 2.19734598235532, 2.20530805593051, 2.32095223798536, 2.33038745514703, 2.33457933376512, 2.36816232322781, 2.37590909799332, 2.39884086381844, 2.42044271471101, 2.46703084619927, 2.51714670880973, 2.59478080662589, 2.69113233632922, 2.76939052519408, 2.79050658113289, 2.92154121348215, 2.93350209014598, 2.9552302431603, 3.10927971739705, 3.23198409560899, 3.25227738112784, 3.31322692116246, 3.57188545983291, 4.16530582147946]\n"
     ]
    }
   ],
   "source": [
    "print(f'объём выборки: {n}')\n",
    "print(f'вариационный ряд: {sample}')"
   ]
  },
  {
   "cell_type": "code",
   "execution_count": 17,
   "metadata": {},
   "outputs": [
    {
     "data": {
      "image/png": "[encoded data removed]",
      "text/plain": [
       "<Figure size 432x288 with 1 Axes>"
      ]
     },
     "metadata": {
      "needs_background": "light"
     },
     "output_type": "display_data"
    }
   ],
   "source": [
    "lamb = 2\n",
    "x_exp = np.linspace(0, 3, 5000)\n",
    "y_exp = scipy.stats.expon.cdf(x_exp, scale=1/lamb)\n",
    "plt.plot(x_exp, y_exp)\n",
    "\n",
    "plot_ecdf(sample)\n",
    "\n",
    "plt.show()"
   ]
  },
  {
   "cell_type": "code",
   "execution_count": 18,
   "metadata": {},
   "outputs": [],
   "source": [
    "def sample_cdf(sample):\n",
    "    hist, edges = np.histogram(sample, bins=len(sample))\n",
    "    heights = hist.cumsum()\n",
    "    heights = [height / len(sample) for height in heights]\n",
    "\n",
    "    scale = (max(sample) - min(sample)) / 10\n",
    "    \n",
    "    def f(x):\n",
    "        if x <= edges[0]:\n",
    "            return 0\n",
    "\n",
    "        for i in range(len(heights)):\n",
    "            if edges[i] < x <= edges[i + 1]:\n",
    "                return heights[i]\n",
    "        if edges[-1] < x:\n",
    "                return 1\n",
    "            \n",
    "    return f"
   ]
  },
  {
   "cell_type": "code",
   "execution_count": 19,
   "metadata": {},
   "outputs": [],
   "source": [
    "eps = 1e-10\n",
    "extend_sample = []\n",
    "for x in sample:\n",
    "    extend_sample.append(x)\n",
    "    extend_sample.append(x + eps)"
   ]
  },
  {
   "cell_type": "code",
   "execution_count": 20,
   "metadata": {},
   "outputs": [],
   "source": [
    "f = sample_cdf(sample)\n",
    "difs = [abs(scipy.stats.expon.cdf(x, scale=1/lamb) - f(x)) for x in extend_sample]"
   ]
  },
  {
   "cell_type": "code",
   "execution_count": 21,
   "metadata": {},
   "outputs": [],
   "source": [
    "sup = max(difs)\n",
    "statistic = (len(sample) ** 0.5) * sup"
   ]
  },
  {
   "cell_type": "code",
   "execution_count": 22,
   "metadata": {},
   "outputs": [
    {
     "name": "stdout",
     "output_type": "stream",
     "text": [
      "sqrt(n)Dn = 4.33702924378484\n"
     ]
    }
   ],
   "source": [
    "print(f'sqrt(n)Dn = {statistic}')"
   ]
  },
  {
   "cell_type": "code",
   "execution_count": 23,
   "metadata": {},
   "outputs": [],
   "source": [
    "alpha = 0.05\n",
    "c_critical = (-0.5 * math.log((alpha) / 2)) ** 0.5\n",
    "#c_critical = scipy.special.kolmogi(alpha)"
   ]
  },
  {
   "cell_type": "code",
   "execution_count": 24,
   "metadata": {},
   "outputs": [
    {
     "name": "stdout",
     "output_type": "stream",
     "text": [
      "C_критическое: 1.3581015157406195\n"
     ]
    }
   ],
   "source": [
    "print(f'C_критическое: {c_critical}')"
   ]
  },
  {
   "cell_type": "markdown",
   "metadata": {},
   "source": [
    "#### нулевая гипотеза отвергается в пользу альтернативной так как $\\sqrt{n}D_n >  С_{крит}$"
   ]
  },
  {
   "cell_type": "code",
   "execution_count": 25,
   "metadata": {},
   "outputs": [],
   "source": [
    "#p_value = 1 - 2 * (math.e ** (-2 * (statistic ** 2)))\n",
    "p_value = scipy.special.kolmogorov(statistic)"
   ]
  },
  {
   "cell_type": "code",
   "execution_count": 26,
   "metadata": {},
   "outputs": [
    {
     "name": "stdout",
     "output_type": "stream",
     "text": [
      "p значение: 9.183867742092247e-17\n"
     ]
    }
   ],
   "source": [
    "print(f'p значение: {p_value}')"
   ]
  },
  {
   "cell_type": "markdown",
   "metadata": {},
   "source": [
    "#### нулевая гипотеза отвергается в пользу альтернативной так как $p_{value} <  \\alpha$"
   ]
  }
 ],
 "metadata": {
  "kernelspec": {
   "display_name": "Python 3",
   "language": "python",
   "name": "python3"
  },
  "language_info": {
   "codemirror_mode": {
    "name": "ipython",
    "version": 3
   },
   "file_extension": ".py",
   "mimetype": "text/x-python",
   "name": "python",
   "nbconvert_exporter": "python",
   "pygments_lexer": "ipython3",
   "version": "3.8.6"
  }
 },
 "nbformat": 4,
 "nbformat_minor": 4
}
