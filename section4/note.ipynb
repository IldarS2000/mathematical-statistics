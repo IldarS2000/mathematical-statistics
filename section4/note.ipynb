{
 "cells": [
  {
   "cell_type": "code",
   "execution_count": 1,
   "metadata": {},
   "outputs": [],
   "source": [
    "import csv\n",
    "import pandas as pd\n",
    "import numpy as np\n",
    "import matplotlib.pyplot as plt\n",
    "from scipy.stats import chi2"
   ]
  },
  {
   "cell_type": "markdown",
   "metadata": {},
   "source": [
    "# Задание 1 \n",
    "### Проверка гипотезы независимости двух признаков"
   ]
  },
  {
   "cell_type": "code",
   "execution_count": 2,
   "metadata": {},
   "outputs": [
    {
     "name": "stdout",
     "output_type": "stream",
     "text": [
      "[(117.3, 87.), (114.2, 81.2), (114., 78.7), (119.1, 86.1), (122.9, 83.1), (118.1, 89.8), (118.6, 82.3), (113.7, 82.3), (116.7, 84.2), (114.4, 80.8), (118.8, 85.4), (122.5, 83.3), (122.3, 83.7), (117., 85.2), (117.8, 88.4), (125.5, 91.5), (117.1, 84.3), (119., 83.7), (111.7, 79.3), (114.4, 85.4), (120.5, 88.8), (118.1, 82.7), (123.6, 86.2), (121., 82.8), (119.2, 85.), (114.9, 82.1), (119.9, 82.8), (114.8, 83.8), (115., 83.2), (115.1, 82.2), (121.4, 83.5), (120., 88.3), (116.4, 79.4), (113.5, 83.6), (117.5, 82.7), (116.9, 83.2), (117.3, 83.4), (124.7, 86.9), (118.6, 80.), (114.3, 81.2), (117., 86.5), (120.4, 85.2), (117.2, 84.1), (120.4, 82.1), (116.5, 81.4), (107.3, 85.4), (120.8, 84.7), (122.4, 79.9), (116.2, 84.6), (118.9, 82.7), (114.4, 80.9), (119.1, 88.8), (112., 90.7), (119.8, 87.9), (127.4, 84.3), (117.1, 84.4), (118.1, 87.9), (119.4, 84.3), (117.4, 86.6), (119.3, 85.4), (120.4, 83.8), (113.5, 87.5), (115.9, 87.5), (119.9, 85.7), (124.8, 86.), (122.5, 83.9), (124.7, 88.1), (113.4, 81.3), (118.8, 83.), (114.2, 81.1), (111.9, 80.7), (114.5, 83.5), (115.1, 80.7), (121.2, 87.), (114.8, 86.3), (121.1, 85.2), (112.3, 86.8), (123.1, 87.9), (117.4, 85.2), (115.8, 82.8), (104.9, 80.1), (123.8, 84.9), (121.1, 84.3), (114.3, 82.6), (115.5, 87.7), (111.1, 85.2), (119.9, 84.4), (113.6, 84.9), (116.1, 82.2), (114.7, 90.), (117.5, 84.5), (118.4, 79.2), (118.6, 83.5), (118.8, 82.9), (123.3, 83.2), (115.6, 87.6), (110., 77.8), (125.1, 83.8), (112.7, 78.6)]\n"
     ]
    }
   ],
   "source": [
    "df = pd.read_csv('r4z1.csv')\n",
    "sample = list(df.to_records(index=False))\n",
    "print(sample)"
   ]
  },
  {
   "cell_type": "code",
   "execution_count": 3,
   "metadata": {},
   "outputs": [],
   "source": [
    "r = 5\n",
    "s = 5\n",
    "\n",
    "x1 = 114.05\n",
    "xr = 122.05\n",
    "x_dif = (xr - x1) / r\n",
    "\n",
    "y1 = 81.05\n",
    "ys = 87.05\n",
    "y_dif = (ys - y1) / s\n",
    "\n",
    "bot_inf = -(10 ** 9)\n",
    "up_inf = 10 ** 9"
   ]
  },
  {
   "cell_type": "code",
   "execution_count": 4,
   "metadata": {},
   "outputs": [],
   "source": [
    "def create_intervals(borders):\n",
    "    intervals = []\n",
    "    \n",
    "    intervals.append((bot_inf, borders[0]))\n",
    "    for i in range(1, len(borders)):\n",
    "        intervals.append((borders[i - 1], borders[i]))\n",
    "    intervals.append((borders[-1], up_inf))\n",
    "    \n",
    "    return intervals"
   ]
  },
  {
   "cell_type": "code",
   "execution_count": 5,
   "metadata": {
    "scrolled": true
   },
   "outputs": [
    {
     "data": {
      "text/plain": [
       "[(-1000000000, 114.05),\n",
       " (114.05, 116.05),\n",
       " (116.05, 118.05),\n",
       " (118.05, 120.05),\n",
       " (120.05, 122.05),\n",
       " (122.05, 1000000000)]"
      ]
     },
     "execution_count": 5,
     "metadata": {},
     "output_type": "execute_result"
    }
   ],
   "source": [
    "x_intervals = list(np.linspace(x1, xr, r))\n",
    "x_intervals = create_intervals(x_intervals)\n",
    "x_intervals"
   ]
  },
  {
   "cell_type": "code",
   "execution_count": 6,
   "metadata": {},
   "outputs": [
    {
     "data": {
      "text/plain": [
       "[(-1000000000, 81.05),\n",
       " (81.05, 82.55),\n",
       " (82.55, 84.05),\n",
       " (84.05, 85.55),\n",
       " (85.55, 87.05),\n",
       " (87.05, 1000000000)]"
      ]
     },
     "execution_count": 6,
     "metadata": {},
     "output_type": "execute_result"
    }
   ],
   "source": [
    "y_intervals = list(np.linspace(y1, ys, s))\n",
    "y_intervals = create_intervals(y_intervals)\n",
    "y_intervals"
   ]
  },
  {
   "cell_type": "code",
   "execution_count": 7,
   "metadata": {},
   "outputs": [
    {
     "data": {
      "text/plain": [
       "[[0, 0, 0, 0, 0, 0, 0],\n",
       " [0, 0, 0, 0, 0, 0, 0],\n",
       " [0, 0, 0, 0, 0, 0, 0],\n",
       " [0, 0, 0, 0, 0, 0, 0],\n",
       " [0, 0, 0, 0, 0, 0, 0],\n",
       " [0, 0, 0, 0, 0, 0, 0],\n",
       " [0, 0, 0, 0, 0, 0, 0]]"
      ]
     },
     "execution_count": 7,
     "metadata": {},
     "output_type": "execute_result"
    }
   ],
   "source": [
    "n = r + 2\n",
    "m = s + 2\n",
    "matrix = [[0 for _ in range(n)] for _ in range(m)]\n",
    "matrix"
   ]
  },
  {
   "cell_type": "code",
   "execution_count": 8,
   "metadata": {},
   "outputs": [],
   "source": [
    "for pair in sample:\n",
    "    for i in range(len(x_intervals)):\n",
    "        for j in range(len(y_intervals)):\n",
    "            if x_intervals[i][0] < pair[0] <= x_intervals[i][1] and y_intervals[j][0] < pair[1] <= y_intervals[j][1]:\n",
    "                matrix[i][j] += 1"
   ]
  },
  {
   "cell_type": "code",
   "execution_count": 9,
   "metadata": {},
   "outputs": [
    {
     "data": {
      "text/plain": [
       "[[6, 2, 1, 3, 1, 2, 0],\n",
       " [3, 5, 5, 1, 1, 4, 0],\n",
       " [1, 2, 3, 8, 3, 1, 0],\n",
       " [2, 1, 7, 5, 2, 5, 0],\n",
       " [0, 1, 3, 4, 1, 1, 0],\n",
       " [1, 0, 6, 2, 3, 3, 0],\n",
       " [0, 0, 0, 0, 0, 0, 0]]"
      ]
     },
     "execution_count": 9,
     "metadata": {},
     "output_type": "execute_result"
    }
   ],
   "source": [
    "matrix"
   ]
  },
  {
   "cell_type": "code",
   "execution_count": 10,
   "metadata": {},
   "outputs": [],
   "source": [
    "for i in range(n - 1):\n",
    "    row_sum = 0\n",
    "    for j in range(m - 1):\n",
    "        row_sum += matrix[i][j]\n",
    "    matrix[i][-1] = row_sum\n",
    "    \n",
    "for j in range(m - 1):\n",
    "    column_sum = 0\n",
    "    for i in range(n - 1):\n",
    "        column_sum += matrix[i][j]\n",
    "    matrix[-1][j] = column_sum\n",
    "    \n",
    "general_sum = 0\n",
    "for i in range(n - 1):\n",
    "    general_sum += matrix[i][-1]\n",
    "matrix[-1][-1] = general_sum"
   ]
  },
  {
   "cell_type": "code",
   "execution_count": 11,
   "metadata": {},
   "outputs": [
    {
     "data": {
      "text/plain": [
       "[[6, 2, 1, 3, 1, 2, 15],\n",
       " [3, 5, 5, 1, 1, 4, 19],\n",
       " [1, 2, 3, 8, 3, 1, 18],\n",
       " [2, 1, 7, 5, 2, 5, 22],\n",
       " [0, 1, 3, 4, 1, 1, 10],\n",
       " [1, 0, 6, 2, 3, 3, 15],\n",
       " [13, 11, 25, 23, 11, 16, 99]]"
      ]
     },
     "execution_count": 11,
     "metadata": {},
     "output_type": "execute_result"
    }
   ],
   "source": [
    "matrix"
   ]
  },
  {
   "cell_type": "code",
   "execution_count": 12,
   "metadata": {},
   "outputs": [],
   "source": [
    "stat = 0\n",
    "for i in range(n):\n",
    "    for j in range(m):\n",
    "        temp = matrix[i][-1] * matrix[-1][j]\n",
    "        stat += (matrix[-1][-1] * matrix[i][j] - temp) ** 2 / (matrix[-1][-1] * temp)"
   ]
  },
  {
   "cell_type": "code",
   "execution_count": 13,
   "metadata": {},
   "outputs": [
    {
     "data": {
      "text/plain": [
       "35.209729893104615"
      ]
     },
     "execution_count": 13,
     "metadata": {},
     "output_type": "execute_result"
    }
   ],
   "source": [
    "stat"
   ]
  },
  {
   "cell_type": "code",
   "execution_count": 14,
   "metadata": {},
   "outputs": [],
   "source": [
    "alpha = 0.01\n",
    "degrees_of_freedom = r * s"
   ]
  },
  {
   "cell_type": "code",
   "execution_count": 15,
   "metadata": {},
   "outputs": [
    {
     "data": {
      "text/plain": [
       "0.08447605728300489"
      ]
     },
     "execution_count": 15,
     "metadata": {},
     "output_type": "execute_result"
    }
   ],
   "source": [
    "p = 1 - chi2(df=degrees_of_freedom).cdf(stat)\n",
    "p"
   ]
  },
  {
   "cell_type": "code",
   "execution_count": 16,
   "metadata": {},
   "outputs": [
    {
     "name": "stdout",
     "output_type": "stream",
     "text": [
      "признаки независимы\n"
     ]
    }
   ],
   "source": [
    "if p > alpha:\n",
    "    print('признаки независимы')\n",
    "else:\n",
    "    print('признаки зависимы')"
   ]
  },
  {
   "cell_type": "markdown",
   "metadata": {},
   "source": [
    "# Задание 2\n",
    "### Построение линии регрессии"
   ]
  },
  {
   "cell_type": "code",
   "execution_count": 17,
   "metadata": {},
   "outputs": [
    {
     "name": "stdout",
     "output_type": "stream",
     "text": [
      "[(117.3, 87.), (114.2, 81.2), (114., 78.7), (119.1, 86.1), (122.9, 83.1), (118.1, 89.8), (118.6, 82.3), (113.7, 82.3), (116.7, 84.2), (114.4, 80.8), (118.8, 85.4), (122.5, 83.3), (122.3, 83.7), (117., 85.2), (117.8, 88.4), (125.5, 91.5), (117.1, 84.3), (119., 83.7), (111.7, 79.3), (114.4, 85.4), (120.5, 88.8), (118.1, 82.7), (123.6, 86.2), (121., 82.8), (119.2, 85.), (114.9, 82.1), (119.9, 82.8), (114.8, 83.8), (115., 83.2), (115.1, 82.2), (121.4, 83.5), (120., 88.3), (116.4, 79.4), (113.5, 83.6), (117.5, 82.7), (116.9, 83.2), (117.3, 83.4), (124.7, 86.9), (118.6, 80.), (114.3, 81.2), (117., 86.5), (120.4, 85.2), (117.2, 84.1), (120.4, 82.1), (116.5, 81.4), (107.3, 85.4), (120.8, 84.7), (122.4, 79.9), (116.2, 84.6), (118.9, 82.7), (114.4, 80.9), (119.1, 88.8), (112., 90.7), (119.8, 87.9), (127.4, 84.3), (117.1, 84.4), (118.1, 87.9), (119.4, 84.3), (117.4, 86.6), (119.3, 85.4), (120.4, 83.8), (113.5, 87.5), (115.9, 87.5), (119.9, 85.7), (124.8, 86.), (122.5, 83.9), (124.7, 88.1), (113.4, 81.3), (118.8, 83.), (114.2, 81.1), (111.9, 80.7), (114.5, 83.5), (115.1, 80.7), (121.2, 87.), (114.8, 86.3), (121.1, 85.2), (112.3, 86.8), (123.1, 87.9), (117.4, 85.2), (115.8, 82.8), (104.9, 80.1), (123.8, 84.9), (121.1, 84.3), (114.3, 82.6), (115.5, 87.7), (111.1, 85.2), (119.9, 84.4), (113.6, 84.9), (116.1, 82.2), (114.7, 90.), (117.5, 84.5), (118.4, 79.2), (118.6, 83.5), (118.8, 82.9), (123.3, 83.2), (115.6, 87.6), (110., 77.8), (125.1, 83.8), (112.7, 78.6)]\n"
     ]
    }
   ],
   "source": [
    "df = pd.read_csv('r4z2.csv')\n",
    "sample = list(df.to_records(index=False))\n",
    "print(sample)"
   ]
  },
  {
   "cell_type": "code",
   "execution_count": 18,
   "metadata": {},
   "outputs": [],
   "source": [
    "x = [point[0] for point in sample]\n",
    "mean_x = np.mean(x)\n",
    "std_x = np.std(x)"
   ]
  },
  {
   "cell_type": "code",
   "execution_count": 19,
   "metadata": {},
   "outputs": [],
   "source": [
    "y = [point[1] for point in sample]\n",
    "mean_y = np.mean(y)\n",
    "std_y = np.std(y)"
   ]
  },
  {
   "cell_type": "code",
   "execution_count": 20,
   "metadata": {},
   "outputs": [
    {
     "data": {
      "text/plain": [
       "0.3010627235288228"
      ]
     },
     "execution_count": 20,
     "metadata": {},
     "output_type": "execute_result"
    }
   ],
   "source": [
    "corr_coeff = np.mean([(point[0] - mean_x) * (point[1] - mean_y) for point in sample]) / (std_x * std_y)\n",
    "corr_coeff"
   ]
  },
  {
   "cell_type": "code",
   "execution_count": 21,
   "metadata": {},
   "outputs": [],
   "source": [
    "line_y = [min(y), max(y)]\n",
    "\n",
    "equation = lambda y: mean_x + corr_coeff * (std_x / std_y) * (y - mean_y)\n",
    "line_x = [equation(line_y[0]), equation(line_y[1])]"
   ]
  },
  {
   "cell_type": "code",
   "execution_count": 22,
   "metadata": {},
   "outputs": [
    {
     "data": {
      "image/png": "[encoded data removed]",
      "text/plain": [
       "<Figure size 720x576 with 1 Axes>"
      ]
     },
     "metadata": {
      "needs_background": "light"
     },
     "output_type": "display_data"
    }
   ],
   "source": [
    "fig, ax = plt.subplots()\n",
    "\n",
    "ax.scatter(x, y, c='orange')\n",
    "ax.plot(line_x, line_y, c='white')\n",
    "\n",
    "ax.set_facecolor('black')\n",
    "fig.set_figwidth(10)  \n",
    "fig.set_figheight(8)\n",
    "\n",
    "plt.show()"
   ]
  },
  {
   "cell_type": "code",
   "execution_count": 23,
   "metadata": {},
   "outputs": [
    {
     "data": {
      "text/plain": [
       "116.7289466661796"
      ]
     },
     "execution_count": 23,
     "metadata": {},
     "output_type": "execute_result"
    }
   ],
   "source": [
    "Y = 82\n",
    "prediction = equation(Y)\n",
    "prediction"
   ]
  }
 ],
 "metadata": {
  "kernelspec": {
   "display_name": "Python 3",
   "language": "python",
   "name": "python3"
  },
  "language_info": {
   "codemirror_mode": {
    "name": "ipython",
    "version": 3
   },
   "file_extension": ".py",
   "mimetype": "text/x-python",
   "name": "python",
   "nbconvert_exporter": "python",
   "pygments_lexer": "ipython3",
   "version": "3.8.6"
  }
 },
 "nbformat": 4,
 "nbformat_minor": 4
}
