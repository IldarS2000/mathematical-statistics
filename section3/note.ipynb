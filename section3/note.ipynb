{
 "cells": [
  {
   "cell_type": "markdown",
   "metadata": {},
   "source": [
    "## раздел 3"
   ]
  },
  {
   "cell_type": "code",
   "execution_count": 1,
   "metadata": {},
   "outputs": [],
   "source": [
    "import csv\n",
    "import scipy.stats"
   ]
  },
  {
   "cell_type": "code",
   "execution_count": 2,
   "metadata": {},
   "outputs": [],
   "source": [
    "def get_sample(file_name):\n",
    "    with open(file_name) as f:\n",
    "        reader = csv.reader(f)\n",
    "        sample = [line[0] for line in reader][1:]\n",
    "    sample = list(map(float, sample))\n",
    "    return sample"
   ]
  },
  {
   "cell_type": "code",
   "execution_count": 3,
   "metadata": {},
   "outputs": [],
   "source": [
    "def get_mean(sample):\n",
    "    return sum(sample) / len(sample)"
   ]
  },
  {
   "cell_type": "code",
   "execution_count": 4,
   "metadata": {},
   "outputs": [],
   "source": [
    "def get_variance(sample):\n",
    "    mean = get_mean(sample)\n",
    "    variance = sum([(value - mean) ** 2 for value in sample]) / len(sample)\n",
    "    return variance"
   ]
  },
  {
   "cell_type": "markdown",
   "metadata": {},
   "source": [
    "### задание 1"
   ]
  },
  {
   "cell_type": "code",
   "execution_count": 5,
   "metadata": {},
   "outputs": [
    {
     "name": "stdout",
     "output_type": "stream",
     "text": [
      "выборка: [1.08694113403019, 0.409540101071972, 2.18154175966303, 0.598066631613079, 2.06630189193041, 1.36902463810246, 1.01282559966243, 1.06707640828682, 1.17608135966412, 0.747465853237853, 1.23922243323038, 0.835516948087185, 2.02913850597714, 2.01209134423862, 0.745812793399302, 1.30496744128352, 1.51974442187487, 0.955302409463521, 2.15280412818519]\n"
     ]
    }
   ],
   "source": [
    "sample = get_sample('r3z1.csv')\n",
    "print(f'выборка: {sample}')"
   ]
  },
  {
   "cell_type": "code",
   "execution_count": 6,
   "metadata": {},
   "outputs": [
    {
     "name": "stdout",
     "output_type": "stream",
     "text": [
      "мат ожидание: 1.2899718843685313\n"
     ]
    }
   ],
   "source": [
    "mean = get_mean(sample)\n",
    "print(f'мат ожидание: {mean}')"
   ]
  },
  {
   "cell_type": "code",
   "execution_count": 7,
   "metadata": {},
   "outputs": [
    {
     "name": "stdout",
     "output_type": "stream",
     "text": [
      "дисперсия: 0.29554033670551993\n"
     ]
    }
   ],
   "source": [
    "variance = get_variance(sample)\n",
    "print(f'дисперсия: {variance}')"
   ]
  },
  {
   "cell_type": "code",
   "execution_count": 8,
   "metadata": {},
   "outputs": [
    {
     "name": "stdout",
     "output_type": "stream",
     "text": [
      "среднеквадратическое отклонение: 0.5436362172496604\n"
     ]
    }
   ],
   "source": [
    "std = variance ** 0.5\n",
    "print(f'среднеквадратическое отклонение: {std}')"
   ]
  },
  {
   "cell_type": "markdown",
   "metadata": {},
   "source": [
    "<img src=\"equations.png\" width=\"600\" height=\"1200\">"
   ]
  },
  {
   "cell_type": "code",
   "execution_count": 9,
   "metadata": {},
   "outputs": [
    {
     "name": "stdout",
     "output_type": "stream",
     "text": [
      "a: 0.34836633525756744\n",
      "h: 1.8832110982219277\n"
     ]
    }
   ],
   "source": [
    "a = mean - (3 ** 0.5 * std)\n",
    "print(f'a: {a}')\n",
    "h = 2 * (3 ** 0.5 * std)\n",
    "print(f'h: {h}')"
   ]
  },
  {
   "cell_type": "markdown",
   "metadata": {},
   "source": [
    "### задание 2"
   ]
  },
  {
   "cell_type": "code",
   "execution_count": 10,
   "metadata": {},
   "outputs": [
    {
     "name": "stdout",
     "output_type": "stream",
     "text": [
      "выборка: [49.6, 46.1, 42.5, 49.1, 48.0, 45.9, 57.4, 49.8, 49.0, 52.2, 48.4, 56.7, 45.1, 46.7, 58.0, 52.6, 42.7, 41.4, 40.9, 49.6, 55.2, 52.8, 49.7, 53.3, 56.4, 50.4, 59.6, 68.8, 46.8, 46.6, 53.8, 48.8, 56.8, 50.6, 43.1]\n"
     ]
    }
   ],
   "source": [
    "sample = get_sample('r3z2.csv')\n",
    "print(f'выборка: {sample}')"
   ]
  },
  {
   "cell_type": "code",
   "execution_count": 11,
   "metadata": {},
   "outputs": [
    {
     "name": "stdout",
     "output_type": "stream",
     "text": [
      "мат ожидание: 50.41142857142856\n"
     ]
    }
   ],
   "source": [
    "mean = get_mean(sample)\n",
    "print(f'мат ожидание: {mean}')"
   ]
  },
  {
   "cell_type": "code",
   "execution_count": 12,
   "metadata": {},
   "outputs": [
    {
     "name": "stdout",
     "output_type": "stream",
     "text": [
      "дисперсия: 33.59301224489796\n"
     ]
    }
   ],
   "source": [
    "variance = get_variance(sample)\n",
    "print(f'дисперсия: {variance}')"
   ]
  },
  {
   "cell_type": "code",
   "execution_count": 13,
   "metadata": {},
   "outputs": [
    {
     "name": "stdout",
     "output_type": "stream",
     "text": [
      "среднеквадратическое отклонение: 5.795947915992514\n"
     ]
    }
   ],
   "source": [
    "std = variance ** 0.5\n",
    "print(f'среднеквадратическое отклонение: {std}')"
   ]
  },
  {
   "cell_type": "code",
   "execution_count": 14,
   "metadata": {},
   "outputs": [],
   "source": [
    "degree_freedom = len(sample) - 1\n",
    "student_distribution = scipy.stats.t(degree_freedom)"
   ]
  },
  {
   "cell_type": "code",
   "execution_count": 15,
   "metadata": {},
   "outputs": [],
   "source": [
    "quantile = 0.9"
   ]
  },
  {
   "cell_type": "code",
   "execution_count": 16,
   "metadata": {},
   "outputs": [],
   "source": [
    "temp = std / ((len(sample) - 1) ** 0.5) * student_distribution.ppf(quantile)"
   ]
  },
  {
   "cell_type": "code",
   "execution_count": 17,
   "metadata": {},
   "outputs": [
    {
     "data": {
      "text/plain": [
       "1.3069515856238303"
      ]
     },
     "execution_count": 17,
     "metadata": {},
     "output_type": "execute_result"
    }
   ],
   "source": [
    "student_distribution.ppf(quantile)"
   ]
  },
  {
   "cell_type": "code",
   "execution_count": 18,
   "metadata": {},
   "outputs": [
    {
     "name": "stdout",
     "output_type": "stream",
     "text": [
      "нижняя доверительная граница: 49.112322789798625\n",
      "верхняя доверительная граница: 51.71053435305849\n"
     ]
    }
   ],
   "source": [
    "bottom_confidence_limit = mean - temp\n",
    "print(f'нижняя доверительная граница: {bottom_confidence_limit}')\n",
    "top_confidence_limit = mean + temp\n",
    "print(f'верхняя доверительная граница: {top_confidence_limit}')"
   ]
  },
  {
   "cell_type": "code",
   "execution_count": 19,
   "metadata": {},
   "outputs": [
    {
     "name": "stdout",
     "output_type": "stream",
     "text": [
      "стандартная ошибка среднего: 0.9939968671523888\n"
     ]
    }
   ],
   "source": [
    "standard_error_of_the_mean = std / ((len(sample) - 1) ** 0.5)\n",
    "print(f'стандартная ошибка среднего: {standard_error_of_the_mean}')"
   ]
  }
 ],
 "metadata": {
  "kernelspec": {
   "display_name": "Python 3",
   "language": "python",
   "name": "python3"
  },
  "language_info": {
   "codemirror_mode": {
    "name": "ipython",
    "version": 3
   },
   "file_extension": ".py",
   "mimetype": "text/x-python",
   "name": "python",
   "nbconvert_exporter": "python",
   "pygments_lexer": "ipython3",
   "version": "3.8.6"
  }
 },
 "nbformat": 4,
 "nbformat_minor": 4
}
